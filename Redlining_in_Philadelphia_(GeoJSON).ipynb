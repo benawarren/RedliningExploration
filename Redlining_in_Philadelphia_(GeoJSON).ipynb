{
  "nbformat": 4,
  "nbformat_minor": 0,
  "metadata": {
    "colab": {
      "name": "Redlining in Philadelphia (GeoJSON)",
      "provenance": [],
      "collapsed_sections": [],
      "authorship_tag": "ABX9TyPL8JKxYMBzrdv/ZlQ5Bx6n",
      "include_colab_link": true
    },
    "kernelspec": {
      "name": "python3",
      "display_name": "Python 3"
    }
  },
  "cells": [
    {
      "cell_type": "markdown",
      "metadata": {
        "id": "view-in-github",
        "colab_type": "text"
      },
      "source": [
        "<a href=\"https://colab.research.google.com/github/s017274/RedliningExploration/blob/main/Redlining_in_Philadelphia_(GeoJSON).ipynb\" target=\"_parent\"><img src=\"https://colab.research.google.com/assets/colab-badge.svg\" alt=\"Open In Colab\"/></a>"
      ]
    },
    {
      "cell_type": "markdown",
      "metadata": {
        "id": "VLJs10biynFA"
      },
      "source": [
        "**Python geospatial analysis of redlining**\n",
        "\n",
        "Datasets: \n",
        "* Philadelphia redlining data from the Richmond DSL project Mapping Inequality: https://dsl.richmond.edu/panorama/redlining/#loc=5/39.1/-94.58&text=downloads\n",
        "* Philadelphia crime data (2021): https://www.opendataphilly.org/dataset/crime-incidents "
      ]
    },
    {
      "cell_type": "markdown",
      "source": [
        "##Set-up"
      ],
      "metadata": {
        "id": "kQGm7VznDT9M"
      }
    },
    {
      "cell_type": "code",
      "metadata": {
        "colab": {
          "base_uri": "https://localhost:8080/"
        },
        "id": "UcfrjRBPyZpu",
        "outputId": "f64230ff-90ad-4584-9799-3cbc6f3cc37e"
      },
      "source": [
        "#This installs the necessary dependencies\n",
        "!pip install geopandas"
      ],
      "execution_count": 1,
      "outputs": [
        {
          "output_type": "stream",
          "name": "stdout",
          "text": [
            "Collecting geopandas\n",
            "  Downloading geopandas-0.10.2-py2.py3-none-any.whl (1.0 MB)\n",
            "\u001b[K     |████████████████████████████████| 1.0 MB 7.1 MB/s \n",
            "\u001b[?25hCollecting pyproj>=2.2.0\n",
            "  Downloading pyproj-3.2.1-cp37-cp37m-manylinux2010_x86_64.whl (6.3 MB)\n",
            "\u001b[K     |████████████████████████████████| 6.3 MB 22.9 MB/s \n",
            "\u001b[?25hRequirement already satisfied: pandas>=0.25.0 in /usr/local/lib/python3.7/dist-packages (from geopandas) (1.1.5)\n",
            "Requirement already satisfied: shapely>=1.6 in /usr/local/lib/python3.7/dist-packages (from geopandas) (1.8.0)\n",
            "Collecting fiona>=1.8\n",
            "  Downloading Fiona-1.8.20-cp37-cp37m-manylinux1_x86_64.whl (15.4 MB)\n",
            "\u001b[K     |████████████████████████████████| 15.4 MB 21.9 MB/s \n",
            "\u001b[?25hRequirement already satisfied: setuptools in /usr/local/lib/python3.7/dist-packages (from fiona>=1.8->geopandas) (57.4.0)\n",
            "Requirement already satisfied: six>=1.7 in /usr/local/lib/python3.7/dist-packages (from fiona>=1.8->geopandas) (1.15.0)\n",
            "Requirement already satisfied: attrs>=17 in /usr/local/lib/python3.7/dist-packages (from fiona>=1.8->geopandas) (21.4.0)\n",
            "Collecting cligj>=0.5\n",
            "  Downloading cligj-0.7.2-py3-none-any.whl (7.1 kB)\n",
            "Requirement already satisfied: click>=4.0 in /usr/local/lib/python3.7/dist-packages (from fiona>=1.8->geopandas) (7.1.2)\n",
            "Requirement already satisfied: certifi in /usr/local/lib/python3.7/dist-packages (from fiona>=1.8->geopandas) (2021.10.8)\n",
            "Collecting munch\n",
            "  Downloading munch-2.5.0-py2.py3-none-any.whl (10 kB)\n",
            "Collecting click-plugins>=1.0\n",
            "  Downloading click_plugins-1.1.1-py2.py3-none-any.whl (7.5 kB)\n",
            "Requirement already satisfied: pytz>=2017.2 in /usr/local/lib/python3.7/dist-packages (from pandas>=0.25.0->geopandas) (2018.9)\n",
            "Requirement already satisfied: numpy>=1.15.4 in /usr/local/lib/python3.7/dist-packages (from pandas>=0.25.0->geopandas) (1.19.5)\n",
            "Requirement already satisfied: python-dateutil>=2.7.3 in /usr/local/lib/python3.7/dist-packages (from pandas>=0.25.0->geopandas) (2.8.2)\n",
            "Installing collected packages: munch, cligj, click-plugins, pyproj, fiona, geopandas\n",
            "Successfully installed click-plugins-1.1.1 cligj-0.7.2 fiona-1.8.20 geopandas-0.10.2 munch-2.5.0 pyproj-3.2.1\n"
          ]
        }
      ]
    },
    {
      "cell_type": "code",
      "metadata": {
        "id": "kXAFDkDZzV_H"
      },
      "source": [
        "#Imports\n",
        "import geopandas as gdp\n",
        "import matplotlib as plt\n",
        "import pandas as pd\n",
        "import numpy as np\n",
        "import math"
      ],
      "execution_count": 13,
      "outputs": []
    },
    {
      "cell_type": "code",
      "metadata": {
        "colab": {
          "base_uri": "https://localhost:8080/"
        },
        "id": "tIRQ8beOymX9",
        "outputId": "79e25a6f-c5e3-4050-cf5a-4da2cb9c35ac"
      },
      "source": [
        "#Reads in file\n",
        "redlining_data = gdp.read_file('/content/PAPhiladelphia1937.geojson')\n",
        "philly_crime_data = pd.read_csv('/content/incidents_part1_part2.csv')\n",
        "#Prints categories in file\n",
        "print(redlining_data.columns)\n",
        "print(philly_crime_data.columns)"
      ],
      "execution_count": 5,
      "outputs": [
        {
          "output_type": "stream",
          "name": "stdout",
          "text": [
            "Index(['name', 'holc_id', 'holc_grade', 'area_description_data', 'geometry'], dtype='object')\n",
            "Index(['the_geom', 'cartodb_id', 'the_geom_webmercator', 'objectid', 'dc_dist',\n",
            "       'psa', 'dispatch_date_time', 'dispatch_date', 'dispatch_time', 'hour_',\n",
            "       'dc_key', 'location_block', 'ucr_general', 'text_general_code',\n",
            "       'point_x', 'point_y', 'lat', 'lng'],\n",
            "      dtype='object')\n"
          ]
        }
      ]
    },
    {
      "cell_type": "code",
      "metadata": {
        "colab": {
          "base_uri": "https://localhost:8080/",
          "height": 375
        },
        "id": "GvQW7lh8ktBt",
        "outputId": "6668a8cc-820e-4972-9437-a7804fda7d83"
      },
      "source": [
        "philly_crime_data.head()"
      ],
      "execution_count": 4,
      "outputs": [
        {
          "output_type": "execute_result",
          "data": {
            "text/html": [
              "\n",
              "  <div id=\"df-7053c947-be4a-4826-8f2f-b6d15fe796cd\">\n",
              "    <div class=\"colab-df-container\">\n",
              "      <div>\n",
              "<style scoped>\n",
              "    .dataframe tbody tr th:only-of-type {\n",
              "        vertical-align: middle;\n",
              "    }\n",
              "\n",
              "    .dataframe tbody tr th {\n",
              "        vertical-align: top;\n",
              "    }\n",
              "\n",
              "    .dataframe thead th {\n",
              "        text-align: right;\n",
              "    }\n",
              "</style>\n",
              "<table border=\"1\" class=\"dataframe\">\n",
              "  <thead>\n",
              "    <tr style=\"text-align: right;\">\n",
              "      <th></th>\n",
              "      <th>the_geom</th>\n",
              "      <th>cartodb_id</th>\n",
              "      <th>the_geom_webmercator</th>\n",
              "      <th>objectid</th>\n",
              "      <th>dc_dist</th>\n",
              "      <th>psa</th>\n",
              "      <th>dispatch_date_time</th>\n",
              "      <th>dispatch_date</th>\n",
              "      <th>dispatch_time</th>\n",
              "      <th>hour_</th>\n",
              "      <th>dc_key</th>\n",
              "      <th>location_block</th>\n",
              "      <th>ucr_general</th>\n",
              "      <th>text_general_code</th>\n",
              "      <th>point_x</th>\n",
              "      <th>point_y</th>\n",
              "      <th>lat</th>\n",
              "      <th>lng</th>\n",
              "    </tr>\n",
              "  </thead>\n",
              "  <tbody>\n",
              "    <tr>\n",
              "      <th>0</th>\n",
              "      <td>0101000020E6100000ECBC5322C5CE52C03D31678D2CF1...</td>\n",
              "      <td>2640566</td>\n",
              "      <td>0101000020110F00003952D0165FF25FC17988322F797F...</td>\n",
              "      <td>5084575</td>\n",
              "      <td>12</td>\n",
              "      <td>1</td>\n",
              "      <td>2021-03-19 10:41:04</td>\n",
              "      <td>2021-03-19</td>\n",
              "      <td>10:41:04</td>\n",
              "      <td>10.0</td>\n",
              "      <td>202112018994</td>\n",
              "      <td>4500 BLOCK ISLAND AV</td>\n",
              "      <td>600</td>\n",
              "      <td>Thefts</td>\n",
              "      <td>-75.230782</td>\n",
              "      <td>39.884172</td>\n",
              "      <td>39.884172</td>\n",
              "      <td>-75.230782</td>\n",
              "    </tr>\n",
              "    <tr>\n",
              "      <th>1</th>\n",
              "      <td>0101000020E61000007A37B3E9CAC652C05C69211AC003...</td>\n",
              "      <td>2640573</td>\n",
              "      <td>0101000020110F00003952C02BD2E45FC128F33D3F0E94...</td>\n",
              "      <td>4627971</td>\n",
              "      <td>15</td>\n",
              "      <td>1</td>\n",
              "      <td>2021-02-25 16:44:00</td>\n",
              "      <td>2021-02-25</td>\n",
              "      <td>16:44:00</td>\n",
              "      <td>16.0</td>\n",
              "      <td>202115013539</td>\n",
              "      <td>E ROOSEVELT BLVD  /  WHITAKER AV</td>\n",
              "      <td>700</td>\n",
              "      <td>Motor Vehicle Theft</td>\n",
              "      <td>-75.106135</td>\n",
              "      <td>40.029300</td>\n",
              "      <td>40.029300</td>\n",
              "      <td>-75.106135</td>\n",
              "    </tr>\n",
              "    <tr>\n",
              "      <th>2</th>\n",
              "      <td>0101000020E6100000C9F4955136C752C0DCD4A31DF5FE...</td>\n",
              "      <td>2640955</td>\n",
              "      <td>0101000020110F000060AD479C88E55FC1780A94B2BD8E...</td>\n",
              "      <td>5221029</td>\n",
              "      <td>24</td>\n",
              "      <td>2</td>\n",
              "      <td>2021-03-25 22:33:54</td>\n",
              "      <td>2021-03-25</td>\n",
              "      <td>22:33:54</td>\n",
              "      <td>22.0</td>\n",
              "      <td>202124019454</td>\n",
              "      <td>3100 BLOCK FRANKFORD AV</td>\n",
              "      <td>1500</td>\n",
              "      <td>Weapon Violations</td>\n",
              "      <td>-75.112690</td>\n",
              "      <td>39.991855</td>\n",
              "      <td>39.991855</td>\n",
              "      <td>-75.112690</td>\n",
              "    </tr>\n",
              "    <tr>\n",
              "      <th>3</th>\n",
              "      <td>0101000020E6100000684F76F106C952C0CA7097587406...</td>\n",
              "      <td>2640957</td>\n",
              "      <td>0101000020110F00004A556CD29DE85FC12E37B02C0E97...</td>\n",
              "      <td>3500576</td>\n",
              "      <td>35</td>\n",
              "      <td>1</td>\n",
              "      <td>2021-01-02 18:57:00</td>\n",
              "      <td>2021-01-02</td>\n",
              "      <td>18:57:00</td>\n",
              "      <td>18.0</td>\n",
              "      <td>202135000451</td>\n",
              "      <td>N PARK AV  /  CHELTEN AV</td>\n",
              "      <td>700</td>\n",
              "      <td>Motor Vehicle Theft</td>\n",
              "      <td>-75.141049</td>\n",
              "      <td>40.050426</td>\n",
              "      <td>40.050426</td>\n",
              "      <td>-75.141049</td>\n",
              "    </tr>\n",
              "    <tr>\n",
              "      <th>4</th>\n",
              "      <td>0101000020E6100000A21CD49748CF52C0223A3E398EFB...</td>\n",
              "      <td>2641121</td>\n",
              "      <td>0101000020110F00003528AC623EF35FC163C50F75F88A...</td>\n",
              "      <td>4993349</td>\n",
              "      <td>19</td>\n",
              "      <td>2</td>\n",
              "      <td>2021-03-16 00:07:48</td>\n",
              "      <td>2021-03-16</td>\n",
              "      <td>00:07:48</td>\n",
              "      <td>0.0</td>\n",
              "      <td>202119014625</td>\n",
              "      <td>5900 BLOCK SPRING ST</td>\n",
              "      <td>1400</td>\n",
              "      <td>Vandalism/Criminal Mischief</td>\n",
              "      <td>NaN</td>\n",
              "      <td>NaN</td>\n",
              "      <td>39.965278</td>\n",
              "      <td>-75.238806</td>\n",
              "    </tr>\n",
              "  </tbody>\n",
              "</table>\n",
              "</div>\n",
              "      <button class=\"colab-df-convert\" onclick=\"convertToInteractive('df-7053c947-be4a-4826-8f2f-b6d15fe796cd')\"\n",
              "              title=\"Convert this dataframe to an interactive table.\"\n",
              "              style=\"display:none;\">\n",
              "        \n",
              "  <svg xmlns=\"http://www.w3.org/2000/svg\" height=\"24px\"viewBox=\"0 0 24 24\"\n",
              "       width=\"24px\">\n",
              "    <path d=\"M0 0h24v24H0V0z\" fill=\"none\"/>\n",
              "    <path d=\"M18.56 5.44l.94 2.06.94-2.06 2.06-.94-2.06-.94-.94-2.06-.94 2.06-2.06.94zm-11 1L8.5 8.5l.94-2.06 2.06-.94-2.06-.94L8.5 2.5l-.94 2.06-2.06.94zm10 10l.94 2.06.94-2.06 2.06-.94-2.06-.94-.94-2.06-.94 2.06-2.06.94z\"/><path d=\"M17.41 7.96l-1.37-1.37c-.4-.4-.92-.59-1.43-.59-.52 0-1.04.2-1.43.59L10.3 9.45l-7.72 7.72c-.78.78-.78 2.05 0 2.83L4 21.41c.39.39.9.59 1.41.59.51 0 1.02-.2 1.41-.59l7.78-7.78 2.81-2.81c.8-.78.8-2.07 0-2.86zM5.41 20L4 18.59l7.72-7.72 1.47 1.35L5.41 20z\"/>\n",
              "  </svg>\n",
              "      </button>\n",
              "      \n",
              "  <style>\n",
              "    .colab-df-container {\n",
              "      display:flex;\n",
              "      flex-wrap:wrap;\n",
              "      gap: 12px;\n",
              "    }\n",
              "\n",
              "    .colab-df-convert {\n",
              "      background-color: #E8F0FE;\n",
              "      border: none;\n",
              "      border-radius: 50%;\n",
              "      cursor: pointer;\n",
              "      display: none;\n",
              "      fill: #1967D2;\n",
              "      height: 32px;\n",
              "      padding: 0 0 0 0;\n",
              "      width: 32px;\n",
              "    }\n",
              "\n",
              "    .colab-df-convert:hover {\n",
              "      background-color: #E2EBFA;\n",
              "      box-shadow: 0px 1px 2px rgba(60, 64, 67, 0.3), 0px 1px 3px 1px rgba(60, 64, 67, 0.15);\n",
              "      fill: #174EA6;\n",
              "    }\n",
              "\n",
              "    [theme=dark] .colab-df-convert {\n",
              "      background-color: #3B4455;\n",
              "      fill: #D2E3FC;\n",
              "    }\n",
              "\n",
              "    [theme=dark] .colab-df-convert:hover {\n",
              "      background-color: #434B5C;\n",
              "      box-shadow: 0px 1px 3px 1px rgba(0, 0, 0, 0.15);\n",
              "      filter: drop-shadow(0px 1px 2px rgba(0, 0, 0, 0.3));\n",
              "      fill: #FFFFFF;\n",
              "    }\n",
              "  </style>\n",
              "\n",
              "      <script>\n",
              "        const buttonEl =\n",
              "          document.querySelector('#df-7053c947-be4a-4826-8f2f-b6d15fe796cd button.colab-df-convert');\n",
              "        buttonEl.style.display =\n",
              "          google.colab.kernel.accessAllowed ? 'block' : 'none';\n",
              "\n",
              "        async function convertToInteractive(key) {\n",
              "          const element = document.querySelector('#df-7053c947-be4a-4826-8f2f-b6d15fe796cd');\n",
              "          const dataTable =\n",
              "            await google.colab.kernel.invokeFunction('convertToInteractive',\n",
              "                                                     [key], {});\n",
              "          if (!dataTable) return;\n",
              "\n",
              "          const docLinkHtml = 'Like what you see? Visit the ' +\n",
              "            '<a target=\"_blank\" href=https://colab.research.google.com/notebooks/data_table.ipynb>data table notebook</a>'\n",
              "            + ' to learn more about interactive tables.';\n",
              "          element.innerHTML = '';\n",
              "          dataTable['output_type'] = 'display_data';\n",
              "          await google.colab.output.renderOutput(dataTable, element);\n",
              "          const docLink = document.createElement('div');\n",
              "          docLink.innerHTML = docLinkHtml;\n",
              "          element.appendChild(docLink);\n",
              "        }\n",
              "      </script>\n",
              "    </div>\n",
              "  </div>\n",
              "  "
            ],
            "text/plain": [
              "                                            the_geom  ...        lng\n",
              "0  0101000020E6100000ECBC5322C5CE52C03D31678D2CF1...  ... -75.230782\n",
              "1  0101000020E61000007A37B3E9CAC652C05C69211AC003...  ... -75.106135\n",
              "2  0101000020E6100000C9F4955136C752C0DCD4A31DF5FE...  ... -75.112690\n",
              "3  0101000020E6100000684F76F106C952C0CA7097587406...  ... -75.141049\n",
              "4  0101000020E6100000A21CD49748CF52C0223A3E398EFB...  ... -75.238806\n",
              "\n",
              "[5 rows x 18 columns]"
            ]
          },
          "metadata": {},
          "execution_count": 4
        }
      ]
    },
    {
      "cell_type": "markdown",
      "source": [
        "##Analyzing crime rates in different HOLC grades"
      ],
      "metadata": {
        "id": "ZSzNgisQC0LY"
      }
    },
    {
      "cell_type": "code",
      "metadata": {
        "id": "fsPfbcMLnHB6"
      },
      "source": [
        "# Areas with most crimes committed\n",
        "\n",
        "philly_crime_data = philly_crime_data.iloc[:1000]\n",
        "areas = philly_crime_data['location_block']\n",
        "crimes = philly_crime_data['text_general_code']\n",
        "\n",
        "crimes_per_area = [(\"\",0)]\n",
        "for i in range(len(areas)):\n",
        "  crimes_per_area.append((areas[i], crimes[i]))\n",
        "\n",
        "areas = list(set(areas))\n",
        "\n",
        "final_list = {\"\": []}\n",
        "\n",
        "for area in areas:\n",
        "  for item in crimes_per_area:\n",
        "    final_list[area] = []\n",
        "    if item[0] == area:\n",
        "      final_list[area].append(item[1])\n",
        "\n",
        "for item in final_list:\n",
        "  if item == \"\" or pd.isnull(item):\n",
        "    print(\"Invalid\")\n",
        "  else:\n",
        "    # print(len(item[1]))\n",
        "    max = 0\n",
        "    max_crime = \"\"\n",
        "    for crime in item[1]:\n",
        "      if item[1].count(crime) > max:\n",
        "        max = item[1].count(crime)\n",
        "        max_crime = crime\n",
        "    print(str(max_crime) + \":\" + str(max))\n",
        "\n"
      ],
      "execution_count": null,
      "outputs": []
    },
    {
      "cell_type": "markdown",
      "source": [
        "##Identifying HOLC grades where minority groups were noted\n",
        "\n",
        "* Black, Jewish, and Italian populations were considered a negative factor in investment security."
      ],
      "metadata": {
        "id": "-a2IGUBEC7BJ"
      }
    },
    {
      "cell_type": "code",
      "metadata": {
        "id": "SswL1Wyuk_IU"
      },
      "source": [
        "data_dict = {}\n",
        "\n",
        "ids = redlining_data['holc_id']\n",
        "grades = redlining_data['holc_grade']\n",
        "descriptions = redlining_data['area_description_data']\n",
        "\n",
        "for i in range(82):\n",
        "  array = [ids[i], grades[i], descriptions[i]]\n",
        "  data_dict[i] = array\n",
        "\n"
      ],
      "execution_count": 24,
      "outputs": []
    },
    {
      "cell_type": "markdown",
      "metadata": {
        "id": "jQqRy--mtZoM"
      },
      "source": [
        "This block of code shows that the average HOLC grade for an area where the report dictated that Black residents lived was 'C', the second lowest grade - 'Definitely Declining' - while those areas without any noted Black population averaged 'A' - desirable."
      ]
    },
    {
      "cell_type": "code",
      "metadata": {
        "colab": {
          "base_uri": "https://localhost:8080/"
        },
        "id": "sGPvAoQqnIF8",
        "outputId": "f2fb8f5d-8d60-4e56-d2ce-5f65a79e3cab"
      },
      "source": [
        "# Creates variables for storing grades and names of areas\n",
        "yes_5d = []\n",
        "yes_5d_areas = []\n",
        "\n",
        "no_5d = []\n",
        "no_5d_areas = []\n",
        "\n",
        "# Loops through dictionary (which has grades, IDs, and descriptions)\n",
        "for value in data_dict.values():\n",
        "  if (not value[2] == {\"\":\"\"}):\n",
        "    answer = value[2][\"5d\"]\n",
        "    if 'nominal' in answer or 'yes' in answer or 'Yes' in answer or 'Threatening' in answer:\n",
        "      yes_5d.append(value[1])\n",
        "      yes_5d_areas.append(value[2]['1'])\n",
        "    else:\n",
        "      no_5d.append(value[1])\n",
        "      no_5d_areas.append(value[2]['1'])\n",
        "\n",
        "average_yes = 0.0\n",
        "average_no = 0.0\n",
        "\n",
        "# Adds up the ASCII values of grades - A, B, C, or D = 65, 66, 67, or 68\n",
        "for i in range(len(yes_5d)):\n",
        "  average_yes += ord(yes_5d[i])\n",
        "  average_no += ord(no_5d[i])\n",
        "\n",
        "# Gets the average ASCII value\n",
        "average_yes = average_yes/len(yes_5d)\n",
        "average_no = average_no/len(yes_5d)\n",
        "\n",
        "# Converts the rounded ASCII value back into a letter grade and outputs it\n",
        "print(\"Average Grade of Area with Black Population: \" + chr(int(average_yes)))\n",
        "print(\"Average Grade of Area with No Black Population: \" + chr(int(average_no)))"
      ],
      "execution_count": 25,
      "outputs": [
        {
          "output_type": "stream",
          "name": "stdout",
          "text": [
            "Average Grade of Area with Black Population: C\n",
            "Average Grade of Area with No Black Population: A\n"
          ]
        }
      ]
    },
    {
      "cell_type": "markdown",
      "metadata": {
        "id": "XgU2v2ThNmZI"
      },
      "source": [
        "List of area descriptions"
      ]
    },
    {
      "cell_type": "code",
      "metadata": {
        "id": "dReX-N2C2Yj3"
      },
      "source": [
        "area_descriptions = {0:''}\n",
        "index = 0\n",
        "for item in redlining_data['area_description_data']:\n",
        "  area_descriptions[index] = item\n",
        "  index += 1"
      ],
      "execution_count": 41,
      "outputs": []
    },
    {
      "cell_type": "markdown",
      "metadata": {
        "id": "XTTt8eEwNrTp"
      },
      "source": [
        "Searches for keywords (racial and ethnic minority groups that were discriminated against)"
      ]
    },
    {
      "cell_type": "code",
      "metadata": {
        "colab": {
          "base_uri": "https://localhost:8080/"
        },
        "id": "b9uTNh-GHsac",
        "outputId": "d02db44d-e715-4450-c5fc-3f26c2485a5b"
      },
      "source": [
        "keywords_found = []\n",
        "keywords = ['negro', 'jewish', 'italian', 'negroes']\n",
        "for item in area_descriptions.items():\n",
        "  if not (item[1] == {'': ''}): \n",
        "    string1 = item[1]['4']\n",
        "    string2 = item[1]['14']\n",
        "    for word in keywords:\n",
        "      if word in string1 or word in string2:\n",
        "        keywords_found.append(item[1]['1'])\n",
        "\n",
        "print(keywords_found)"
      ],
      "execution_count": 27,
      "outputs": [
        {
          "output_type": "stream",
          "name": "stdout",
          "text": [
            "['Philadelphia B 5', 'Sub. Holmesburg C 11', 'Philadelphia C 14', 'PHILADELPHIA D 11', 'Philadelphia D 14', 'Philadelphia D 15', 'South Philadelphia D 18', 'South Philadelphia D 18', 'Philadelphia D 21', 'Philadelphia D 21', 'Philadelphia D 22', 'Philadelphia D 23', 'Philadelphia, Pa. D 6']\n"
          ]
        }
      ]
    },
    {
      "cell_type": "markdown",
      "metadata": {
        "id": "RTIGw8kcNxZn"
      },
      "source": [
        "Looks for the HOLC grades that were assigned to areas recorded to have the ethnic/racial minority groups"
      ]
    },
    {
      "cell_type": "code",
      "metadata": {
        "colab": {
          "base_uri": "https://localhost:8080/"
        },
        "id": "7ta1kujULcwV",
        "outputId": "52b2d47a-ad6c-4229-f4e0-365beceb04a2"
      },
      "source": [
        "ids_and_race = {'':''}\n",
        "\n",
        "holc_grades = redlining_data['holc_id']\n",
        "descriptions = redlining_data['area_description_data']\n",
        "\n",
        "for item in descriptions:\n",
        "  if not(item == {'':''}):\n",
        "    for word in keywords_found:\n",
        "      if item['1'] == word and \"Philadelphia\" in item['1'] and not \"Sub\" in item['1'] :\n",
        "        ids_and_race[word] = item['1'][13]\n",
        "\n",
        "print(\"The HOLC grades for areas described as having high amounts of minority residents: \")\n",
        "print(ids_and_race.values())"
      ],
      "execution_count": 40,
      "outputs": [
        {
          "output_type": "stream",
          "name": "stdout",
          "text": [
            "The HOLC grades for areas described as having high amounts of minority residents: \n",
            "dict_values(['', 'B', 'C', 'D', 'D', 'l', 'D', 'D', 'D', ' '])\n"
          ]
        }
      ]
    },
    {
      "cell_type": "markdown",
      "source": [
        "##Visualizing HOLC grades"
      ],
      "metadata": {
        "id": "jc7Ke_B2Cqxl"
      }
    },
    {
      "cell_type": "code",
      "metadata": {
        "colab": {
          "base_uri": "https://localhost:8080/",
          "height": 282
        },
        "id": "bovYcOAz1Ua6",
        "outputId": "938324b3-c094-4560-e1cf-60cdf14566bc"
      },
      "source": [
        "redlining_data.plot(column = \"holc_grade\")"
      ],
      "execution_count": null,
      "outputs": [
        {
          "output_type": "execute_result",
          "data": {
            "text/plain": [
              "<matplotlib.axes._subplots.AxesSubplot at 0x7f9cb8442828>"
            ]
          },
          "metadata": {
            "tags": []
          },
          "execution_count": 22
        },
        {
          "output_type": "display_data",
          "data": {
            "image/png": "[encoded data removed]",
            "text/plain": [
              "<Figure size 432x288 with 1 Axes>"
            ]
          },
          "metadata": {
            "tags": [],
            "needs_background": "light"
          }
        }
      ]
    },
    {
      "cell_type": "code",
      "metadata": {
        "colab": {
          "base_uri": "https://localhost:8080/",
          "height": 282
        },
        "id": "9uWENue52UZG",
        "outputId": "b9ad069b-c9d4-4598-a0f1-6f32db8b3b9c"
      },
      "source": [
        "redlining_data.plot(column = \"holc_id\")"
      ],
      "execution_count": null,
      "outputs": [
        {
          "output_type": "execute_result",
          "data": {
            "text/plain": [
              "<matplotlib.axes._subplots.AxesSubplot at 0x7f9cb097fcc0>"
            ]
          },
          "metadata": {
            "tags": []
          },
          "execution_count": 23
        },
        {
          "output_type": "display_data",
          "data": {
            "image/png": "[encoded data removed]",
            "text/plain": [
              "<Figure size 432x288 with 1 Axes>"
            ]
          },
          "metadata": {
            "tags": [],
            "needs_background": "light"
          }
        }
      ]
    }
  ]
}